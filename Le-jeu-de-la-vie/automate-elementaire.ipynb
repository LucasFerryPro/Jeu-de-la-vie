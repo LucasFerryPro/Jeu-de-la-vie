{
 "cells": [
  {
   "cell_type": "markdown",
   "metadata": {},
   "source": [
    "1. Réalisez un automate élémentaire."
   ]
  },
  {
   "cell_type": "markdown",
   "metadata": {},
   "source": [
    "Il faut d'abord fixer quelques règles, comme par exemple pour le cas ou une cellule atteint un bord mais qu'il reste encore des lignes a générer.\n",
    "Je vais partir sur un principe de bords ouverts, donc si une cellule arrive a un bord (exemple: bord gauche), alors sont voisin de gauche sera la cellule a l'extreme droite et vice versa.\n",
    "Pour éviter de se trainer une liste de liste de x*y case, je vais juste créer une liste vide qui seras la grille des générations, et à chaque génération, je vais créer une liste pour la generation actuel et l'ajouter à la liste des générations.\n",
    "On aura donc 3 paramètres: la regle, la génération initial et le nombre de génération voulu."
   ]
  },
  {
   "cell_type": "code",
   "execution_count": 25,
   "metadata": {},
   "outputs": [
    {
     "name": "stdout",
     "output_type": "stream",
     "text": [
      "['🟥', '🟥', '🟥', '🟥', '🟥', '🟥', '🟥', '🟥', '🟥', '🟥', '🟩', '🟥', '🟥', '🟥', '🟥', '🟥', '🟥', '🟥', '🟥', '🟥', '🟥']\n",
      "\n",
      "['🟥', '🟥', '🟥', '🟥', '🟥', '🟥', '🟥', '🟥', '🟥', '🟩', '🟩', '🟥', '🟥', '🟥', '🟥', '🟥', '🟥', '🟥', '🟥', '🟥', '🟥']\n",
      "\n",
      "['🟥', '🟥', '🟥', '🟥', '🟥', '🟥', '🟥', '🟥', '🟩', '🟩', '🟩', '🟥', '🟥', '🟥', '🟥', '🟥', '🟥', '🟥', '🟥', '🟥', '🟥']\n",
      "\n",
      "['🟥', '🟥', '🟥', '🟥', '🟥', '🟥', '🟥', '🟩', '🟩', '🟥', '🟩', '🟥', '🟥', '🟥', '🟥', '🟥', '🟥', '🟥', '🟥', '🟥', '🟥']\n",
      "\n",
      "['🟥', '🟥', '🟥', '🟥', '🟥', '🟥', '🟩', '🟩', '🟩', '🟩', '🟩', '🟥', '🟥', '🟥', '🟥', '🟥', '🟥', '🟥', '🟥', '🟥', '🟥']\n",
      "\n",
      "['🟥', '🟥', '🟥', '🟥', '🟥', '🟩', '🟩', '🟥', '🟥', '🟥', '🟩', '🟥', '🟥', '🟥', '🟥', '🟥', '🟥', '🟥', '🟥', '🟥', '🟥']\n",
      "\n",
      "['🟥', '🟥', '🟥', '🟥', '🟩', '🟩', '🟩', '🟥', '🟥', '🟩', '🟩', '🟥', '🟥', '🟥', '🟥', '🟥', '🟥', '🟥', '🟥', '🟥', '🟥']\n",
      "\n",
      "['🟥', '🟥', '🟥', '🟩', '🟩', '🟥', '🟩', '🟥', '🟩', '🟩', '🟩', '🟥', '🟥', '🟥', '🟥', '🟥', '🟥', '🟥', '🟥', '🟥', '🟥']\n",
      "\n",
      "['🟥', '🟥', '🟩', '🟩', '🟩', '🟩', '🟩', '🟩', '🟩', '🟥', '🟩', '🟥', '🟥', '🟥', '🟥', '🟥', '🟥', '🟥', '🟥', '🟥', '🟥']\n",
      "\n",
      "['🟥', '🟩', '🟩', '🟥', '🟥', '🟥', '🟥', '🟥', '🟩', '🟩', '🟩', '🟥', '🟥', '🟥', '🟥', '🟥', '🟥', '🟥', '🟥', '🟥', '🟥']\n",
      "\n",
      "['🟩', '🟩', '🟩', '🟥', '🟥', '🟥', '🟥', '🟩', '🟩', '🟥', '🟩', '🟥', '🟥', '🟥', '🟥', '🟥', '🟥', '🟥', '🟥', '🟥', '🟥']\n",
      "\n"
     ]
    }
   ],
   "source": [
    "def automate_elementaire(regle, initial, nb_gen):\n",
    "    generations=[]\n",
    "    regle_bin = [int(bit) for bit in format(regle, '08b')[::-1]]\n",
    "    size = len(initial)\n",
    "    generations.append(initial)\n",
    "    for i in range(nb_gen):\n",
    "        generation = []\n",
    "        for j in range(size):\n",
    "            motif = int(str(generations[i][(j-1)%size]) + str(generations[i][j]) + str(generations[i][(j+1)%size]),2)\n",
    "            generation.append(regle_bin[motif])\n",
    "        generations.append(generation)\n",
    "    return generations\n",
    "\n",
    "#Affichage basique pour verifier si l'automate marche correctement\n",
    "\n",
    "automate = automate_elementaire(110, [0,0,0,0,0,0,0,0,0,1,0,0,0,0,0,0,0,0,0], 10)\n",
    "\n",
    "for gen in automate:\n",
    "    pimp_gen = ['🟥' if bit == 0 else '🟩' for bit in gen]\n",
    "    print(pimp_gen)\n",
    "    print()"
   ]
  }
 ],
 "metadata": {
  "kernelspec": {
   "display_name": "Python 3",
   "language": "python",
   "name": "python3"
  },
  "language_info": {
   "codemirror_mode": {
    "name": "ipython",
    "version": 3
   },
   "file_extension": ".py",
   "mimetype": "text/x-python",
   "name": "python",
   "nbconvert_exporter": "python",
   "pygments_lexer": "ipython3",
   "version": "3.11.3"
  }
 },
 "nbformat": 4,
 "nbformat_minor": 2
}
