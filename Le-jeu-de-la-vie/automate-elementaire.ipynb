{
 "cells": [
  {
   "cell_type": "markdown",
   "metadata": {},
   "source": [
    "1. Réalisez un automate élémentaire."
   ]
  },
  {
   "cell_type": "markdown",
   "metadata": {},
   "source": [
    "Il faut d'abord fixer quelques règles, comme par exemple pour le cas ou une cellule atteint un bord mais qu'il reste encore des lignes a générer.\n",
    "Je vais partir sur un principe de bords ouverts, donc si une cellule arrive a un bord (exemple: bord gauche), alors sont voisin de gauche sera la cellule a l'extreme droite et vice versa.\n",
    "Pour éviter de se trainer une liste de liste de x*y case, je vais juste créer une liste vide qui seras la grille des générations, et à chaque génération, je vais créer une liste pour la generation actuel et l'ajouter à la liste des générations.\n",
    "On aura donc 3 paramètres: la regle, la génération initial et le nombre de génération voulu."
   ]
  },
  {
   "cell_type": "code",
   "execution_count": 1,
   "metadata": {},
   "outputs": [],
   "source": [
    "def automate_elementaire(regle, initial, nb_gen):\n",
    "    generations=[]\n",
    "    regle_bin = [int(bit) for bit in format(regle, '08b')[::-1]]\n",
    "    size = len(initial)\n",
    "    generations.append(initial)\n",
    "    for i in range(nb_gen):\n",
    "        generation = []\n",
    "        for j in range(size):\n",
    "            motif = int(str(generations[i][(j-1)%size]) + str(generations[i][j]) + str(generations[i][(j+1)%size]),2)\n",
    "            generation.append(regle_bin[motif])\n",
    "        generations.append(generation)\n",
    "    return generations"
   ]
  },
  {
   "cell_type": "markdown",
   "metadata": {},
   "source": [
    "2. Vous pouvez prendre la règle d'évolution de votre choix, et faire marcher cet automate, en mode texte, dans un terminal."
   ]
  },
  {
   "cell_type": "code",
   "execution_count": 2,
   "metadata": {},
   "outputs": [
    {
     "name": "stdout",
     "output_type": "stream",
     "text": [
      "['🟥', '🟥', '🟥', '🟥', '🟥', '🟥', '🟥', '🟥', '🟥', '🟩', '🟥', '🟥', '🟥', '🟥', '🟥', '🟥', '🟥', '🟥', '🟥']\n",
      "\n",
      "['🟥', '🟥', '🟥', '🟥', '🟥', '🟥', '🟥', '🟥', '🟩', '🟩', '🟩', '🟥', '🟥', '🟥', '🟥', '🟥', '🟥', '🟥', '🟥']\n",
      "\n",
      "['🟥', '🟥', '🟥', '🟥', '🟥', '🟥', '🟥', '🟩', '🟩', '🟥', '🟥', '🟩', '🟥', '🟥', '🟥', '🟥', '🟥', '🟥', '🟥']\n",
      "\n",
      "['🟥', '🟥', '🟥', '🟥', '🟥', '🟥', '🟩', '🟩', '🟥', '🟩', '🟩', '🟩', '🟩', '🟥', '🟥', '🟥', '🟥', '🟥', '🟥']\n",
      "\n",
      "['🟥', '🟥', '🟥', '🟥', '🟥', '🟩', '🟩', '🟥', '🟥', '🟩', '🟥', '🟥', '🟥', '🟩', '🟥', '🟥', '🟥', '🟥', '🟥']\n",
      "\n",
      "['🟥', '🟥', '🟥', '🟥', '🟩', '🟩', '🟥', '🟩', '🟩', '🟩', '🟩', '🟥', '🟩', '🟩', '🟩', '🟥', '🟥', '🟥', '🟥']\n",
      "\n",
      "['🟥', '🟥', '🟥', '🟩', '🟩', '🟥', '🟥', '🟩', '🟥', '🟥', '🟥', '🟥', '🟩', '🟥', '🟥', '🟩', '🟥', '🟥', '🟥']\n",
      "\n",
      "['🟥', '🟥', '🟩', '🟩', '🟥', '🟩', '🟩', '🟩', '🟩', '🟥', '🟥', '🟩', '🟩', '🟩', '🟩', '🟩', '🟩', '🟥', '🟥']\n",
      "\n",
      "['🟥', '🟩', '🟩', '🟥', '🟥', '🟩', '🟥', '🟥', '🟥', '🟩', '🟩', '🟩', '🟥', '🟥', '🟥', '🟥', '🟥', '🟩', '🟥']\n",
      "\n",
      "['🟩', '🟩', '🟥', '🟩', '🟩', '🟩', '🟩', '🟥', '🟩', '🟩', '🟥', '🟥', '🟩', '🟥', '🟥', '🟥', '🟩', '🟩', '🟩']\n",
      "\n",
      "['🟥', '🟥', '🟥', '🟩', '🟥', '🟥', '🟥', '🟥', '🟩', '🟥', '🟩', '🟩', '🟩', '🟩', '🟥', '🟩', '🟩', '🟥', '🟥']\n",
      "\n"
     ]
    }
   ],
   "source": [
    "automate = automate_elementaire(30, [0,0,0,0,0,0,0,0,0,1,0,0,0,0,0,0,0,0,0], 10)\n",
    "\n",
    "for gen in automate:\n",
    "    pimp_gen = ['🟥' if bit == 0 else '🟩' for bit in gen]\n",
    "    print(pimp_gen)\n",
    "    print()"
   ]
  },
  {
   "cell_type": "markdown",
   "metadata": {},
   "source": [
    "3. Pour l'améliorer, on peut penser demander à l'utilisateur son choix de règle, puis en faire une représentation graphique."
   ]
  },
  {
   "cell_type": "markdown",
   "metadata": {},
   "source": [
    "Pour l'interface graphique je vais utiliser pygame."
   ]
  },
  {
   "cell_type": "code",
   "execution_count": 4,
   "metadata": {},
   "outputs": [
    {
     "name": "stdout",
     "output_type": "stream",
     "text": [
      "356 61\n",
      "317 66\n",
      "265 47\n",
      "not grid\n",
      "260 70\n",
      "307 72\n",
      "329 69\n",
      "392 67\n",
      "418 67\n",
      "445 65\n",
      "471 64\n",
      "391 64\n",
      "391 64\n",
      "463 65\n",
      "463 65\n",
      "490 66\n",
      "518 66\n",
      "546 66\n",
      "569 66\n",
      "597 66\n",
      "622 68\n",
      "657 69\n",
      "681 69\n",
      "706 67\n",
      "739 65\n",
      "767 62\n",
      "787 63\n",
      "304 59\n",
      "276 59\n",
      "280 36\n",
      "not grid\n",
      "266 7\n",
      "253 12\n",
      "230 12\n",
      "200 13\n",
      "166 16\n",
      "125 16\n",
      "55 14\n",
      "55 5\n",
      "57 33\n",
      "not grid\n",
      "57 33\n",
      "not grid\n",
      "57 33\n",
      "not grid\n",
      "57 34\n",
      "not grid\n",
      "57 34\n",
      "not grid\n",
      "57 34\n",
      "not grid\n",
      "92 200\n",
      "119 288\n",
      "186 329\n"
     ]
    },
    {
     "ename": "SystemExit",
     "evalue": "",
     "output_type": "error",
     "traceback": [
      "An exception has occurred, use %tb to see the full traceback.\n",
      "\u001b[1;31mSystemExit\u001b[0m\n"
     ]
    },
    {
     "name": "stderr",
     "output_type": "stream",
     "text": [
      "C:\\Users\\lferry\\AppData\\Roaming\\Python\\Python311\\site-packages\\IPython\\core\\interactiveshell.py:3558: UserWarning: To exit: use 'exit', 'quit', or Ctrl-D.\n",
      "  warn(\"To exit: use 'exit', 'quit', or Ctrl-D.\", stacklevel=1)\n"
     ]
    }
   ],
   "source": [
    "import pygame\n",
    "import sys\n",
    "import math\n",
    "\n",
    "# Initialisation de Pygame\n",
    "pygame.init()\n",
    "\n",
    "def lancer_automate():\n",
    "    pass\n",
    "\n",
    "# Fonction pour afficher la fenêtre Pygame avec la règle et les boutons\n",
    "def afficher_fenetre(regle):\n",
    "    width, height = 800, 800\n",
    "    screen = pygame.display.set_mode((width, height))\n",
    "    pygame.display.set_caption(\"Programme Pygame\")\n",
    "\n",
    "    # Couleurs\n",
    "    white = (255, 255, 255)\n",
    "    black = (0, 0, 0)\n",
    "    \n",
    "\n",
    "    # Police\n",
    "    font = pygame.font.Font(None, 20)\n",
    "\n",
    "    # Grille\n",
    "    nb_lignes, nb_colonnes = 1, 30\n",
    "    cell_size = width / nb_colonnes\n",
    "    grille = [[0] * nb_colonnes for _ in range(nb_lignes)]\n",
    "\n",
    "    # Boucle principale de la fenêtre Pygame\n",
    "    while True:\n",
    "        for event in pygame.event.get():\n",
    "            if event.type == pygame.QUIT:\n",
    "                pygame.quit()\n",
    "                sys.exit()\n",
    "            elif event.type == pygame.MOUSEBUTTONDOWN and event.button == 1:\n",
    "                x,y = event.pos\n",
    "                \n",
    "                print (x,y)\n",
    "                if cell_size < y < 2*cell_size:\n",
    "                    ligne = 0\n",
    "                    colonne = math.floor(x/cell_size)\n",
    "                    grille[ligne][colonne] = (grille[ligne][colonne] + 1 ) % 2\n",
    "                else:\n",
    "                    print(\"not grid\")\n",
    "\n",
    "            # Dessiner le fond\n",
    "            screen.fill(white)\n",
    "\n",
    "        # Dessiner la règle\n",
    "        text_regle = font.render(f\"Règle : {regle}\", True, (0, 0, 0))\n",
    "        screen.blit(text_regle, (350, 10))\n",
    "        \n",
    "        # Dessiner la grille\n",
    "\n",
    "        # Dessiner les cellules\n",
    "        for ligne in range(nb_lignes):\n",
    "            for colonne in range(nb_colonnes):\n",
    "                couleur = black if grille[ligne][colonne] == 1 else white\n",
    "                pygame.draw.rect(screen, couleur, (colonne * cell_size, (ligne + 1) * cell_size, cell_size, cell_size))\n",
    "\n",
    "        # Mettre à jour l'affichage\n",
    "        pygame.display.flip()\n",
    "\n",
    "        # Limiter la vitesse de la boucle\n",
    "        pygame.time.Clock().tick(60)\n",
    "\n",
    "# Boucle principale du programme\n",
    "while True:\n",
    "    numero_regle = input(\"Entrez le numéro de règle (ou 'quitter' pour quitter) : \")\n",
    "    \n",
    "    if numero_regle.lower() == 'quitter':\n",
    "        sys.exit()\n",
    "\n",
    "    try:\n",
    "        numero_regle = int(numero_regle)\n",
    "        # Afficher la fenêtre Pygame avec la règle et les boutons\n",
    "        redemander_regle = afficher_fenetre(numero_regle)\n",
    "        if not redemander_regle:\n",
    "            continue  # Redemander le numéro de règle\n",
    "    except ValueError:\n",
    "        print(\"Veuillez entrer un numéro de règle valide.\")\n"
   ]
  }
 ],
 "metadata": {
  "kernelspec": {
   "display_name": "Python 3",
   "language": "python",
   "name": "python3"
  },
  "language_info": {
   "codemirror_mode": {
    "name": "ipython",
    "version": 3
   },
   "file_extension": ".py",
   "mimetype": "text/x-python",
   "name": "python",
   "nbconvert_exporter": "python",
   "pygments_lexer": "ipython3",
   "version": "3.11.3"
  }
 },
 "nbformat": 4,
 "nbformat_minor": 2
}
